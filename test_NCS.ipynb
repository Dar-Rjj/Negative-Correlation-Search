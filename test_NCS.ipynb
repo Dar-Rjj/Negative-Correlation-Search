{
 "cells": [
  {
   "cell_type": "code",
   "execution_count": null,
   "metadata": {},
   "outputs": [],
   "source": [
    "from typing import Any\n",
    "import numpy as np\n",
    "from NCS import NCS\n",
    "\n",
    "class test:\n",
    "    def __init__(self) -> None:\n",
    "        pass\n",
    "\n",
    "    def __call__(self, params) -> float:\n",
    "        print(params)\n",
    "        return np.sum(np.square(params - 5))\n",
    "    \n",
    "f = test()\n",
    "model = NCS(f, 8, np.array([0, 0]), np.array([10, 10]), 100, 0.9, 10, 0)\n",
    "\n",
    "model.run()"
   ]
  }
 ],
 "metadata": {
  "kernelspec": {
   "display_name": "abides-jpmc-public-main",
   "language": "python",
   "name": "abides"
  },
  "language_info": {
   "codemirror_mode": {
    "name": "ipython",
    "version": 3
   },
   "file_extension": ".py",
   "mimetype": "text/x-python",
   "name": "python",
   "nbconvert_exporter": "python",
   "pygments_lexer": "ipython3",
   "version": "3.11.4"
  },
  "orig_nbformat": 4
 },
 "nbformat": 4,
 "nbformat_minor": 2
}
